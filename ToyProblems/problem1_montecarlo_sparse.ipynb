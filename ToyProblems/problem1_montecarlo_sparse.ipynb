{
 "cells": [
  {
   "cell_type": "code",
   "execution_count": 1,
   "metadata": {},
   "outputs": [],
   "source": [
    "%load_ext autoreload\n",
    "%autoreload 2"
   ]
  },
  {
   "cell_type": "code",
   "execution_count": 2,
   "metadata": {},
   "outputs": [],
   "source": [
    "from problem1 import SingleCellEnv\n",
    "from problem1 import MonteCarloOnPolicyEveryVisitAgent"
   ]
  },
  {
   "cell_type": "code",
   "execution_count": 3,
   "metadata": {},
   "outputs": [],
   "source": [
    "def run(env_spec, agent_spec, epochs=1000):\n",
    "    env = SingleCellEnv(corn_growth_no_support=env_spec[0],\n",
    "                        corn_growth_with_bean=env_spec[1],\n",
    "                        bean_growth_with_support=env_spec[2],\n",
    "                        bean_growth_no_support=env_spec[3],\n",
    "                        use_sparse_rewards = True)\n",
    "    \n",
    "    agent = MonteCarloOnPolicyEveryVisitAgent(env, epsilon=agent_spec[0], discount_rate=agent_spec[1])\n",
    "    agent.train_and_test(epochs)"
   ]
  },
  {
   "cell_type": "code",
   "execution_count": 45,
   "metadata": {},
   "outputs": [
    {
     "name": "stdout",
     "output_type": "stream",
     "text": [
      "=====================================================================\n",
      "Environment Details:\n",
      "Reward Style:Sparse\n",
      "---------------------------------------------------------------------\n",
      "Training for Epochs 1000, using discount factor 0.9, epsilon 0.2\n",
      "Training complete. The resulting q_table:\n",
      "+------------+---------------------+---------------------+---------------------+--------------------+\n",
      "|   state    |        (0, 0)       |        (0, 1)       |        (1, 0)       |       (1, 1)       |\n",
      "+------------+---------------------+---------------------+---------------------+--------------------+\n",
      "| (0, 0, 0)  | 0.08408395681687292 | 0.08132938978431722 | 0.08440162195450977 | 0.0790309080768437 |\n",
      "| (0, 1, 0)  | 0.09211877876134639 |         N/A         | 0.09416461810074794 |        N/A         |\n",
      "| (1, 0, 0)  | 0.09638288228293235 | 0.07599957890592055 |         N/A         |        N/A         |\n",
      "| (1, 0, 1)  | 0.11033339167676896 |  0.1061881431482287 |         N/A         |        N/A         |\n",
      "| (1, 0, 2)  | 0.13591751035826252 | 0.10482618683245845 |         N/A         |        N/A         |\n",
      "| (1, 0, 3)  | 0.12922163778453358 | 0.15344143575019067 |         N/A         |        N/A         |\n",
      "| (1, 0, 4)  | 0.14357959753837063 | 0.14357959753837063 |         N/A         |        N/A         |\n",
      "| (1, 0, 5)  |         N/A         | 0.15953288615374514 |         N/A         |        N/A         |\n",
      "| (1, 1, 0)  | 0.09049160539694089 |         N/A         |         N/A         |        N/A         |\n",
      "| (1, 1, 1)  | 0.09941835068102223 |         N/A         |         N/A         |        N/A         |\n",
      "| (1, 1, 2)  | 0.11251257801539084 |         N/A         |         N/A         |        N/A         |\n",
      "| (1, 1, 3)  | 0.12370765572515977 |         N/A         |         N/A         |        N/A         |\n",
      "| (1, 1, 4)  | 0.13668344307008878 |         N/A         |         N/A         |        N/A         |\n",
      "| (1, 1, 5)  |  0.1509044230361826 |         N/A         |         N/A         |        N/A         |\n",
      "| (1, 1, 6)  | 0.16386569032192977 |         N/A         |         N/A         |        N/A         |\n",
      "| (1, 1, 7)  |  0.1763733688670516 |         N/A         |         N/A         |        N/A         |\n",
      "| (1, 1, 8)  |  0.1922121318183622 |         N/A         |         N/A         |        N/A         |\n",
      "| (1, 1, 9)  | 0.21356903535373575 |         N/A         |         N/A         |        N/A         |\n",
      "| (1, 1, 10) | 0.23188273695424594 |         N/A         |         N/A         |        N/A         |\n",
      "| (1, 1, 11) |  0.2541061426598779 |         N/A         |         N/A         |        N/A         |\n",
      "| (1, 1, 12) | 0.28234015851097527 |         N/A         |         N/A         |        N/A         |\n",
      "| (1, 1, 13) |  0.3087171338489681 |         N/A         |         N/A         |        N/A         |\n",
      "| (1, 1, 14) |  0.3361970022517945 |         N/A         |         N/A         |        N/A         |\n",
      "| (1, 1, 15) | 0.36333019324977117 |         N/A         |         N/A         |        N/A         |\n",
      "| (1, 1, 16) | 0.39914606732032054 |         N/A         |         N/A         |        N/A         |\n",
      "| (1, 1, 17) |  0.4288549399884738 |         N/A         |         N/A         |        N/A         |\n",
      "| (1, 1, 18) |  0.465893354724995  |         N/A         |         N/A         |        N/A         |\n",
      "| (1, 1, 19) |  0.5048169313949886 |         N/A         |         N/A         |        N/A         |\n",
      "| (1, 1, 20) |  0.5434795698382183 |         N/A         |         N/A         |        N/A         |\n",
      "| (1, 1, 21) |  0.587918948101572  |         N/A         |         N/A         |        N/A         |\n",
      "| (1, 1, 22) |  0.6336121200504414 |         N/A         |         N/A         |        N/A         |\n",
      "| (1, 1, 23) |  0.6840893756613761 |         N/A         |         N/A         |        N/A         |\n",
      "| (1, 1, 24) |  0.7352401133144478 |         N/A         |         N/A         |        N/A         |\n",
      "| (1, 1, 25) |  0.7959526555386952 |         N/A         |         N/A         |        N/A         |\n",
      "| (1, 1, 26) |  0.8557128205128207 |         N/A         |         N/A         |        N/A         |\n",
      "| (1, 1, 27) |  0.9286153846153841 |         N/A         |         N/A         |        N/A         |\n",
      "| (1, 1, 28) |  1.0124401913875603 |         N/A         |         N/A         |        N/A         |\n",
      "| (1, 1, 29) |  1.1276595744680848 |         N/A         |         N/A         |        N/A         |\n",
      "+------------+---------------------+---------------------+---------------------+--------------------+\n",
      "Test Run\n",
      "Corn planted at time step 0\n",
      "Bean planted at time step 4 when the age of corn is 3\n",
      "Total Reward = 2.0\n"
     ]
    }
   ],
   "source": [
    "# Note1: Right behavior we are hoping the agent will learn is plant bean when age of corn is 3 \n",
    "# This might not be immediately obvious from code because, in the code when we plant bean, we first\n",
    "# increment the age of corn and then check for age between 4 and 6 to give high reward to bean.\n",
    "# That means the agent needs to choose the time step where age of corn = 3 to plant bean and that's the\n",
    "# earlier best time for planting bean.\n",
    "\n",
    "# Note2: I played with epsilon = 0.1 or 0.2 and gamma = 0.9 or 1.0 and epochs from 100 till 2000.\n",
    "# The results seem more predictable than other methods, even with less epochs, I was seeing the\n",
    "# expected result roughly 50% of times and as we increase the epochs the chance increases.\n",
    "run(env_spec = [0.0, 0.0, 0.0, 0.0], agent_spec = [0.2, 0.9], epochs=1000)\n"
   ]
  }
 ],
 "metadata": {
  "kernelspec": {
   "display_name": "agro-agent",
   "language": "python",
   "name": "agro-agent"
  },
  "language_info": {
   "codemirror_mode": {
    "name": "ipython",
    "version": 3
   },
   "file_extension": ".py",
   "mimetype": "text/x-python",
   "name": "python",
   "nbconvert_exporter": "python",
   "pygments_lexer": "ipython3",
   "version": "3.7.1"
  }
 },
 "nbformat": 4,
 "nbformat_minor": 2
}

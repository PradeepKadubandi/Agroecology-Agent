{
 "cells": [
  {
   "cell_type": "code",
   "execution_count": 1,
   "metadata": {},
   "outputs": [],
   "source": [
    "%load_ext autoreload\n",
    "%autoreload 2"
   ]
  },
  {
   "cell_type": "code",
   "execution_count": 2,
   "metadata": {},
   "outputs": [],
   "source": [
    "from problem1 import SingleCellEnv\n",
    "from problem1 import QLearningAgent"
   ]
  },
  {
   "cell_type": "code",
   "execution_count": 3,
   "metadata": {},
   "outputs": [],
   "source": [
    "def run(env_spec, agent_spec, epochs=1000):\n",
    "    env = SingleCellEnv(corn_growth_no_support=env_spec[0],\n",
    "                        corn_growth_with_bean=env_spec[1],\n",
    "                        bean_growth_with_support=env_spec[2],\n",
    "                        bean_growth_no_support=env_spec[3])\n",
    "    \n",
    "    agent = QLearningAgent(env, discount_rate=agent_spec[0], learning_rate=agent_spec[1], epsilon=agent_spec[2])\n",
    "    agent.train_and_test(epochs)\n",
    "    \n",
    "def run_multiple(env_specs, agent_specs, epochs=1000):\n",
    "    for env_spec in env_specs:\n",
    "        env = SingleCellEnv(corn_growth_no_support=env_spec[0],\n",
    "                            corn_growth_with_bean=env_spec[1],\n",
    "                            bean_growth_with_support=env_spec[2],\n",
    "                            bean_growth_no_support=env_spec[3])\n",
    "        for agent_spec in agent_specs:\n",
    "            agent = QLearningAgent(env, discount_rate=agent_spec[0], learning_rate=agent_spec[1], epsilon=agent_spec[2])\n",
    "            agent.train_and_test(epochs)\n"
   ]
  },
  {
   "cell_type": "code",
   "execution_count": 4,
   "metadata": {},
   "outputs": [],
   "source": [
    "# env_specifications = [[0.5, 1.0, 0.7, 0.0],\n",
    "#                       [0.5, 1.0, 1.0, 0.0],\n",
    "#                       [2.0, 1.0, 0.5, 0.0],\n",
    "#                       [2.0, 1.0, 1.0, 0.0],\n",
    "#                       [0.5, 1.0, 1.5, 0.0]]\n",
    "# agent_specs = [[0.5, 0.1, 0.1],\n",
    "#                [0.5, 0.1, 0.5],\n",
    "#                [0.9, 0.1, 0.1],\n",
    "#                [0.9, 0.1, 0.5],\n",
    "#                [1.0, 0.1, 0.1],\n",
    "#                [1.0, 0.1, 0.5]]\n",
    "# run_multiple(env_specifications, agent_specs)"
   ]
  },
  {
   "cell_type": "code",
   "execution_count": null,
   "metadata": {},
   "outputs": [],
   "source": [
    "# Give high reward for planting bean at right time\n",
    "run(env_spec = [0.5, 0.5, 10, 0.0], agent_spec = [1.0, 0.1, 0.5]) "
   ]
  },
  {
   "cell_type": "code",
   "execution_count": 5,
   "metadata": {},
   "outputs": [
    {
     "name": "stdout",
     "output_type": "stream",
     "text": [
      "=====================================================================\n",
      "Environment Details:\n",
      "Reward Style:Dense\n",
      "Reward from Corn only: 0.5\n",
      "Reward from Corn with bean: 0.5\n",
      "Reward from Bean when planted too late or too early: -0.5\n",
      "Reward from Bean when planted after corn is grown enough: 1.5\n",
      "---------------------------------------------------------------------\n",
      "Training for Epochs 1000, using discount factor 1.0, epsilon 0.5, learning rate 0.1\n",
      "Decaying the learning rate by 0.9 every 1000 epochs\n",
      "Maximum update for any state,action pair in epoch 999: 0.02355413708817844\n",
      "Training complete. The resulting q_table:\n",
      "+------------+---------------------+--------------------+-------------------+-------------------+\n",
      "|   state    |        (0, 0)       |       (0, 1)       |       (1, 0)      |       (1, 1)      |\n",
      "+------------+---------------------+--------------------+-------------------+-------------------+\n",
      "| (0, 0, 0)  |  6.200676117461049  | 4.770669780547195  | 6.790225980785127 | 5.405747316652916 |\n",
      "| (0, 1, 0)  |  3.746761674421843  |        N/A         | 4.968661032205702 |        N/A        |\n",
      "| (1, 0, 0)  |  6.860770476315305  | 5.805764494269532  |        N/A        |        N/A        |\n",
      "| (1, 0, 1)  |  6.414286773997176  | 5.681978143438349  |        N/A        |        N/A        |\n",
      "| (1, 0, 2)  |  5.539590973871816  | 5.928929688667509  |        N/A        |        N/A        |\n",
      "| (1, 0, 3)  |  2.293291421326159  | 5.498997658803104  |        N/A        |        N/A        |\n",
      "| (1, 0, 4)  |  0.5060869454406101 | 3.4096917755539877 |        N/A        |        N/A        |\n",
      "| (1, 0, 5)  |         0.1         | 1.5377555761163073 |        N/A        |        N/A        |\n",
      "| (1, 0, 6)  |         0.1         |        N/A         |        N/A        |        N/A        |\n",
      "| (1, 0, 7)  |  0.1291288240806229 |        N/A         |        N/A        |        N/A        |\n",
      "| (1, 0, 8)  |         N/A         | 0.7542650294643782 |        N/A        |        N/A        |\n",
      "| (1, 1, 0)  |  5.483887981234295  |        N/A         |        N/A        |        N/A        |\n",
      "| (1, 1, 1)  |  5.442793786717203  |        N/A         |        N/A        |        N/A        |\n",
      "| (1, 1, 2)  |  5.418671666516406  |        N/A         |        N/A        |        N/A        |\n",
      "| (1, 1, 3)  |  5.304360939372657  |        N/A         |        N/A        |        N/A        |\n",
      "| (1, 1, 4)  |  5.136620670393524  |        N/A         |        N/A        |        N/A        |\n",
      "| (1, 1, 5)  |  4.937260113683523  |        N/A         |        N/A        |        N/A        |\n",
      "| (1, 1, 6)  |  4.729501309143531  |        N/A         |        N/A        |        N/A        |\n",
      "| (1, 1, 7)  |  4.5177225777128545 |        N/A         |        N/A        |        N/A        |\n",
      "| (1, 1, 8)  |  4.302093706730784  |        N/A         |        N/A        |        N/A        |\n",
      "| (1, 1, 9)  |  4.082433091171177  |        N/A         |        N/A        |        N/A        |\n",
      "| (1, 1, 10) |  3.8586645551064507 |        N/A         |        N/A        |        N/A        |\n",
      "| (1, 1, 11) |  3.630838575708514  |        N/A         |        N/A        |        N/A        |\n",
      "| (1, 1, 12) |  3.399289560455833  |        N/A         |        N/A        |        N/A        |\n",
      "| (1, 1, 13) |  3.164947887933576  |        N/A         |        N/A        |        N/A        |\n",
      "| (1, 1, 14) |  2.9297193747875125 |        N/A         |        N/A        |        N/A        |\n",
      "| (1, 1, 15) |  2.6967223324277456 |        N/A         |        N/A        |        N/A        |\n",
      "| (1, 1, 16) |  2.470107081315961  |        N/A         |        N/A        |        N/A        |\n",
      "| (1, 1, 17) |  2.2542571619052025 |        N/A         |        N/A        |        N/A        |\n",
      "| (1, 1, 18) |  2.0524163622902973 |        N/A         |        N/A        |        N/A        |\n",
      "| (1, 1, 19) |  1.8651225759248269 |        N/A         |        N/A        |        N/A        |\n",
      "| (1, 1, 20) |  1.6890764361135269 |        N/A         |        N/A        |        N/A        |\n",
      "| (1, 1, 21) |  1.5170582345027341 |        N/A         |        N/A        |        N/A        |\n",
      "| (1, 1, 22) |  1.3392448632205345 |        N/A         |        N/A        |        N/A        |\n",
      "| (1, 1, 23) |  1.146017898084578  |        N/A         |        N/A        |        N/A        |\n",
      "| (1, 1, 24) |  0.9322693267628773 |        N/A         |        N/A        |        N/A        |\n",
      "| (1, 1, 25) |  0.7027442169555163 |        N/A         |        N/A        |        N/A        |\n",
      "| (1, 1, 26) | 0.47562024631029437 |        N/A         |        N/A        |        N/A        |\n",
      "| (1, 1, 27) | 0.27789974255321426 |        N/A         |        N/A        |        N/A        |\n",
      "| (1, 1, 28) | 0.13041017631978566 |        N/A         |        N/A        |        N/A        |\n",
      "| (1, 1, 29) | 0.03841332409138773 |        N/A         |        N/A        |        N/A        |\n",
      "+------------+---------------------+--------------------+-------------------+-------------------+\n",
      "Test Run\n",
      "Corn planted at time step 0\n",
      "Bean planted at time step 3 when the age of corn is 2\n",
      "Total Reward = 1.5\n"
     ]
    }
   ],
   "source": [
    "run(env_spec = [0.5, 0.5, 1.5, -0.5], agent_spec = [1.0, 0.1, 0.5]) # Penalize planting bean at incorrect time"
   ]
  }
 ],
 "metadata": {
  "kernelspec": {
   "display_name": "agro-agent",
   "language": "python",
   "name": "agro-agent"
  },
  "language_info": {
   "codemirror_mode": {
    "name": "ipython",
    "version": 3
   },
   "file_extension": ".py",
   "mimetype": "text/x-python",
   "name": "python",
   "nbconvert_exporter": "python",
   "pygments_lexer": "ipython3",
   "version": "3.7.1"
  }
 },
 "nbformat": 4,
 "nbformat_minor": 2
}

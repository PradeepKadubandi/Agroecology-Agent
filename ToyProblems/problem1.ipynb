{
 "cells": [
  {
   "cell_type": "code",
   "execution_count": 1,
   "metadata": {},
   "outputs": [],
   "source": [
    "from problem1 import SingleCellEnv\n",
    "from problem1 import QLearningAgent"
   ]
  },
  {
   "cell_type": "code",
   "execution_count": 2,
   "metadata": {},
   "outputs": [],
   "source": [
    "def run(env_spec, agent_spec):\n",
    "    env = SingleCellEnv(corn_growth_no_support=env_spec[0],\n",
    "                        corn_growth_with_bean=env_spec[1],\n",
    "                        bean_growth_with_support=env_spec[2],\n",
    "                        bean_growth_no_support=env_spec[3])\n",
    "    \n",
    "    agent = QLearningAgent(env, discount_rate=agent_spec[0], learning_rate=agent_spec[1], epsilon=agent_spec[2])\n",
    "    agent.train_and_test(1000)\n",
    "    \n",
    "def run_multiple(env_specs, agent_specs):\n",
    "    for env_spec in env_specs:\n",
    "        env = SingleCellEnv(corn_growth_no_support=env_spec[0],\n",
    "                            corn_growth_with_bean=env_spec[1],\n",
    "                            bean_growth_with_support=env_spec[2],\n",
    "                            bean_growth_no_support=env_spec[3])\n",
    "        for agent_spec in agent_specs:\n",
    "            agent = QLearningAgent(env, discount_rate=agent_spec[0], learning_rate=agent_spec[1], epsilon=agent_spec[2])\n",
    "            agent.train_and_test(1000)\n"
   ]
  },
  {
   "cell_type": "code",
   "execution_count": 3,
   "metadata": {},
   "outputs": [],
   "source": [
    "# env_specifications = [[0.5, 1.0, 0.7, 0.0],\n",
    "#                       [0.5, 1.0, 1.0, 0.0],\n",
    "#                       [2.0, 1.0, 0.5, 0.0],\n",
    "#                       [2.0, 1.0, 1.0, 0.0],\n",
    "#                       [0.5, 1.0, 1.5, 0.0]]\n",
    "# agent_specs = [[0.5, 0.1, 0.1],\n",
    "#                [0.5, 0.1, 0.5],\n",
    "#                [0.9, 0.1, 0.1],\n",
    "#                [0.9, 0.1, 0.5],\n",
    "#                [1.0, 0.1, 0.1],\n",
    "#                [1.0, 0.1, 0.5]]\n",
    "# run_multiple(env_specifications, agent_specs)"
   ]
  },
  {
   "cell_type": "code",
   "execution_count": 4,
   "metadata": {},
   "outputs": [
    {
     "name": "stdout",
     "output_type": "stream",
     "text": [
      "=====================================================================\n",
      "Environment Details:\n",
      "Reward Style:Dense\n",
      "Reward from Corn only: 0.5\n",
      "Reward from Corn with bean: 0.5\n",
      "Reward from Bean when planted too late or too early: 0.0\n",
      "Reward from Bean when planted after corn is grown enough: 10\n",
      "---------------------------------------------------------------------\n",
      "Training for Epochs 1000, using discount factor 1.0, epsilon 0.5, learning rate 0.1\n",
      "Training complete. The resulting q_table:\n",
      "+------------+---------------------+--------------------+--------------------+--------------------+\n",
      "|   state    |        (0, 0)       |       (0, 1)       |       (1, 0)       |       (1, 1)       |\n",
      "+------------+---------------------+--------------------+--------------------+--------------------+\n",
      "| (0, 0, 0)  |  15.794806251271728 | 15.012702873275046 | 15.02554600711361  | 15.001652575009976 |\n",
      "| (0, 1, 0)  |  14.956163558213213 |        N/A         | 15.003498640284883 |        N/A         |\n",
      "| (1, 0, 0)  |  12.683864009172762 | 15.006329426059565 |        N/A         |        N/A         |\n",
      "| (1, 0, 1)  |  4.939388356125744  | 13.883622262763534 |        N/A         |        N/A         |\n",
      "| (1, 0, 2)  |         0.1         | 8.992177677886124  |        N/A         |        N/A         |\n",
      "| (1, 0, 3)  |         0.1         |        N/A         |        N/A         |        N/A         |\n",
      "| (1, 0, 4)  | 0.21999916012129817 |        N/A         |        N/A         |        N/A         |\n",
      "| (1, 0, 5)  |         N/A         | 2.3749925737866078 |        N/A         |        N/A         |\n",
      "| (1, 1, 0)  |  15.000203952246734 |        N/A         |        N/A         |        N/A         |\n",
      "| (1, 1, 1)  |  14.500064971978823 |        N/A         |        N/A         |        N/A         |\n",
      "| (1, 1, 2)  |  14.00003180458153  |        N/A         |        N/A         |        N/A         |\n",
      "| (1, 1, 3)  |  13.500015164875576 |        N/A         |        N/A         |        N/A         |\n",
      "| (1, 1, 4)  |  13.000006983202805 |        N/A         |        N/A         |        N/A         |\n",
      "| (1, 1, 5)  |  12.500003101092341 |        N/A         |        N/A         |        N/A         |\n",
      "| (1, 1, 6)  |  13.000001248927015 |        N/A         |        N/A         |        N/A         |\n",
      "| (1, 1, 7)  |  12.500000513734214 |        N/A         |        N/A         |        N/A         |\n",
      "| (1, 1, 8)  |  12.000000203392702 |        N/A         |        N/A         |        N/A         |\n",
      "| (1, 1, 9)  |  11.500000077498271 |        N/A         |        N/A         |        N/A         |\n",
      "| (1, 1, 10) |  11.000000028436476 |        N/A         |        N/A         |        N/A         |\n",
      "| (1, 1, 11) |  10.500000010070384 |        N/A         |        N/A         |        N/A         |\n",
      "| (1, 1, 12) |   10.0000000034634  |        N/A         |        N/A         |        N/A         |\n",
      "| (1, 1, 13) |  9.500000001173962  |        N/A         |        N/A         |        N/A         |\n",
      "| (1, 1, 14) |  9.000000000402217  |        N/A         |        N/A         |        N/A         |\n",
      "| (1, 1, 15) |   8.50000000014338  |        N/A         |        N/A         |        N/A         |\n",
      "| (1, 1, 16) |  8.000000000056037  |        N/A         |        N/A         |        N/A         |\n",
      "| (1, 1, 17) |  7.500000000026782  |        N/A         |        N/A         |        N/A         |\n",
      "| (1, 1, 18) |  7.000000000015935  |        N/A         |        N/A         |        N/A         |\n",
      "| (1, 1, 19) |  6.500000000011127  |        N/A         |        N/A         |        N/A         |\n",
      "| (1, 1, 20) |  6.000000000008492  |        N/A         |        N/A         |        N/A         |\n",
      "| (1, 1, 21) |  5.500000000006725  |        N/A         |        N/A         |        N/A         |\n",
      "| (1, 1, 22) |   5.00000000000534  |        N/A         |        N/A         |        N/A         |\n",
      "| (1, 1, 23) |  4.500000000004174  |        N/A         |        N/A         |        N/A         |\n",
      "| (1, 1, 24) |  4.000000000003219  |        N/A         |        N/A         |        N/A         |\n",
      "| (1, 1, 25) |  3.5000000000023843 |        N/A         |        N/A         |        N/A         |\n",
      "| (1, 1, 26) |  3.0000000000016636 |        N/A         |        N/A         |        N/A         |\n",
      "| (1, 1, 27) |  2.500000000001072  |        N/A         |        N/A         |        N/A         |\n",
      "| (1, 1, 28) |  2.0000000000006093 |        N/A         |        N/A         |        N/A         |\n",
      "| (1, 1, 29) |  1.5000000000002616 |        N/A         |        N/A         |        N/A         |\n",
      "+------------+---------------------+--------------------+--------------------+--------------------+\n",
      "Test Run\n",
      "Total Reward = 0.0\n"
     ]
    }
   ],
   "source": [
    "run(env_spec = [0.5, 0.5, 10, 0.0], agent_spec = [1.0, 0.1, 0.5]) # Give high reward for planting bean at right time"
   ]
  },
  {
   "cell_type": "code",
   "execution_count": 5,
   "metadata": {},
   "outputs": [
    {
     "name": "stdout",
     "output_type": "stream",
     "text": [
      "=====================================================================\n",
      "Environment Details:\n",
      "Reward Style:Dense\n",
      "Reward from Corn only: 0.5\n",
      "Reward from Corn with bean: 0.5\n",
      "Reward from Bean when planted too late or too early: -0.5\n",
      "Reward from Bean when planted after corn is grown enough: 1.5\n",
      "---------------------------------------------------------------------\n",
      "Training for Epochs 1000, using discount factor 1.0, epsilon 0.5, learning rate 0.1\n",
      "Training complete. The resulting q_table:\n",
      "+------------+---------------------+--------------------+-------------------+-------------------+\n",
      "|   state    |        (0, 0)       |       (0, 1)       |       (1, 0)      |       (1, 1)      |\n",
      "+------------+---------------------+--------------------+-------------------+-------------------+\n",
      "| (0, 0, 0)  |  6.331556811788314  | 4.035340422853388  | 6.101951235206539 | 4.684431359096521 |\n",
      "| (0, 1, 0)  |  3.0570392976489447 |        N/A         | 4.200413771604385 |        N/A        |\n",
      "| (1, 0, 0)  |  6.138413882193133  |  5.1467180463396   |        N/A        |        N/A        |\n",
      "| (1, 0, 1)  |  5.704014339732996  | 5.253514297767145  |        N/A        |        N/A        |\n",
      "| (1, 0, 2)  |  5.351362333692097  | 5.096697986894464  |        N/A        |        N/A        |\n",
      "| (1, 0, 3)  |  3.006905737402659  | 5.227798918386004  |        N/A        |        N/A        |\n",
      "| (1, 0, 4)  |  0.4847051447724222 | 4.058909451834783  |        N/A        |        N/A        |\n",
      "| (1, 0, 5)  |         0.05        | 1.5067671379384762 |        N/A        |        N/A        |\n",
      "| (1, 0, 6)  |         0.05        |        N/A         |        N/A        |        N/A        |\n",
      "| (1, 0, 7)  |         0.05        |        N/A         |        N/A        |        N/A        |\n",
      "| (1, 0, 8)  |         0.05        |        N/A         |        N/A        |        N/A        |\n",
      "| (1, 0, 9)  |         N/A         | 0.4024097818990704 |        N/A        |        N/A        |\n",
      "| (1, 1, 0)  |  4.983651697952149  |        N/A         |        N/A        |        N/A        |\n",
      "| (1, 1, 1)  |  5.190226866815972  |        N/A         |        N/A        |        N/A        |\n",
      "| (1, 1, 2)  |  5.345655551841805  |        N/A         |        N/A        |        N/A        |\n",
      "| (1, 1, 3)  |  5.400168368603866  |        N/A         |        N/A        |        N/A        |\n",
      "| (1, 1, 4)  |  5.347066277773137  |        N/A         |        N/A        |        N/A        |\n",
      "| (1, 1, 5)  |  5.203771986410213  |        N/A         |        N/A        |        N/A        |\n",
      "| (1, 1, 6)  |  5.068455200478033  |        N/A         |        N/A        |        N/A        |\n",
      "| (1, 1, 7)  |  4.941194374239659  |        N/A         |        N/A        |        N/A        |\n",
      "| (1, 1, 8)  |  4.8197050789660665 |        N/A         |        N/A        |        N/A        |\n",
      "| (1, 1, 9)  |  4.701342565366948  |        N/A         |        N/A        |        N/A        |\n",
      "| (1, 1, 10) |  4.5832625878527455 |        N/A         |        N/A        |        N/A        |\n",
      "| (1, 1, 11) |  4.462413444522032  |        N/A         |        N/A        |        N/A        |\n",
      "| (1, 1, 12) |  4.335324398013513  |        N/A         |        N/A        |        N/A        |\n",
      "| (1, 1, 13) |  4.197782275586304  |        N/A         |        N/A        |        N/A        |\n",
      "| (1, 1, 14) |  4.044653469435444  |        N/A         |        N/A        |        N/A        |\n",
      "| (1, 1, 15) |  3.8702303871580765 |        N/A         |        N/A        |        N/A        |\n",
      "| (1, 1, 16) |  3.669415889500453  |        N/A         |        N/A        |        N/A        |\n",
      "| (1, 1, 17) |  3.4396817478635944 |        N/A         |        N/A        |        N/A        |\n",
      "| (1, 1, 18) |  3.183116985109523  |        N/A         |        N/A        |        N/A        |\n",
      "| (1, 1, 19) |  2.9073352446888343 |        N/A         |        N/A        |        N/A        |\n",
      "| (1, 1, 20) |  2.623869935980327  |        N/A         |        N/A        |        N/A        |\n",
      "| (1, 1, 21) |  2.3436435865221275 |        N/A         |        N/A        |        N/A        |\n",
      "| (1, 1, 22) |  2.0988285446780366 |        N/A         |        N/A        |        N/A        |\n",
      "| (1, 1, 23) |  1.840803198933277  |        N/A         |        N/A        |        N/A        |\n",
      "| (1, 1, 24) |  1.604891660503668  |        N/A         |        N/A        |        N/A        |\n",
      "| (1, 1, 25) |  1.3878098200728475 |        N/A         |        N/A        |        N/A        |\n",
      "| (1, 1, 26) |  1.1653764361499122 |        N/A         |        N/A        |        N/A        |\n",
      "| (1, 1, 27) |  0.9225232012130243 |        N/A         |        N/A        |        N/A        |\n",
      "| (1, 1, 28) |  0.618768833478633  |        N/A         |        N/A        |        N/A        |\n",
      "| (1, 1, 29) | 0.36541318181789645 |        N/A         |        N/A        |        N/A        |\n",
      "+------------+---------------------+--------------------+-------------------+-------------------+\n",
      "Test Run\n",
      "Total Reward = 0.0\n"
     ]
    }
   ],
   "source": [
    "run(env_spec = [0.5, 0.5, 1.5, -0.5], agent_spec = [1.0, 0.1, 0.5]) # Penalize planting bean at incorrect time"
   ]
  },
  {
   "cell_type": "code",
   "execution_count": null,
   "metadata": {},
   "outputs": [],
   "source": [
    "run(env_spec = [0.5, 0.5, 1.5, -0.5], agent_spec = [1.0, 0.1, 0.5]) # Penalize planting bean at incorrect time"
   ]
  }
 ],
 "metadata": {
  "kernelspec": {
   "display_name": "agro-agent",
   "language": "python",
   "name": "agro-agent"
  },
  "language_info": {
   "codemirror_mode": {
    "name": "ipython",
    "version": 3
   },
   "file_extension": ".py",
   "mimetype": "text/x-python",
   "name": "python",
   "nbconvert_exporter": "python",
   "pygments_lexer": "ipython3",
   "version": "3.7.1"
  }
 },
 "nbformat": 4,
 "nbformat_minor": 2
}

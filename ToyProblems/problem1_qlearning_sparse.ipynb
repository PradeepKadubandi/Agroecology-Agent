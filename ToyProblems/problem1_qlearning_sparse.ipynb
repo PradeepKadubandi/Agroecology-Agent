{
 "cells": [
  {
   "cell_type": "code",
   "execution_count": null,
   "metadata": {},
   "outputs": [],
   "source": [
    "%load_ext autoreload\n",
    "%autoreload 2"
   ]
  },
  {
   "cell_type": "code",
   "execution_count": 6,
   "metadata": {},
   "outputs": [],
   "source": [
    "from problem1 import SingleCellEnv\n",
    "from problem1 import QLearningAgent"
   ]
  },
  {
   "cell_type": "code",
   "execution_count": 7,
   "metadata": {},
   "outputs": [],
   "source": [
    "def run(env_spec, agent_spec, epochs=1000):\n",
    "    env = SingleCellEnv(corn_growth_no_support=env_spec[0],\n",
    "                        corn_growth_with_bean=env_spec[1],\n",
    "                        bean_growth_with_support=env_spec[2],\n",
    "                        bean_growth_no_support=env_spec[3],\n",
    "                        use_sparse_rewards = True)\n",
    "    \n",
    "    agent = QLearningAgent(env, discount_rate=agent_spec[0], learning_rate=agent_spec[1], epsilon=agent_spec[2])\n",
    "    agent.train_and_test(epochs)"
   ]
  },
  {
   "cell_type": "code",
   "execution_count": 11,
   "metadata": {},
   "outputs": [
    {
     "name": "stdout",
     "output_type": "stream",
     "text": [
      "=====================================================================\n",
      "Environment Details:\n",
      "Reward Style:Sparse\n",
      "---------------------------------------------------------------------\n",
      "Training for Epochs 5000, using discount factor 0.9, epsilon 0.5, learning rate 0.1\n",
      "Decaying the learning rate by 0.9 every 1000 epochs\n",
      "Maximum update for any state,action pair in epoch 999: 0.02204438645358331\n",
      "Maximum update for any state,action pair in epoch 1999: 0.07710342696778727\n",
      "Maximum update for any state,action pair in epoch 2999: 0.012442584101064025\n",
      "Maximum update for any state,action pair in epoch 3999: 0.02008812015348216\n",
      "Maximum update for any state,action pair in epoch 4999: 0.03970492261570957\n",
      "Training complete. The resulting q_table:\n",
      "+------------+-----------------------+----------------------+---------------------+----------------------+\n",
      "|   state    |         (0, 0)        |        (0, 1)        |        (1, 0)       |        (1, 1)        |\n",
      "+------------+-----------------------+----------------------+---------------------+----------------------+\n",
      "| (0, 0, 0)  |  0.05510770157158479  | 0.055282217050865536 | 0.05923835937030653 | 0.058709410959948236 |\n",
      "| (0, 1, 0)  |  0.05714447481125991  |         N/A          | 0.05904863867606308 |         N/A          |\n",
      "| (1, 0, 0)  |  0.06538568220272026  | 0.06420485714123278  |         N/A         |         N/A          |\n",
      "| (1, 0, 1)  |  0.07209288968048878  | 0.07198187212818032  |         N/A         |         N/A          |\n",
      "| (1, 0, 2)  |  0.07946650455546424  | 0.07936775270674039  |         N/A         |         N/A          |\n",
      "| (1, 0, 3)  |  0.08783797306926355  | 0.08754234431023047  |         N/A         |         N/A          |\n",
      "| (1, 0, 4)  |  0.05765269934688141  | 0.09787434006059963  |         N/A         |         N/A          |\n",
      "| (1, 0, 5)  |  0.01019141493006653  |  0.0912499680652766  |         N/A         |         N/A          |\n",
      "| (1, 0, 6)  | 0.0022283097217868763 | 0.045570177478055605 |         N/A         |         N/A          |\n",
      "| (1, 0, 7)  |          N/A          | 0.03004841316795258  |         N/A         |         N/A          |\n",
      "| (1, 1, 0)  |  0.06379430886894095  |         N/A          |         N/A         |         N/A          |\n",
      "| (1, 1, 1)  |  0.07051301966113219  |         N/A          |         N/A         |         N/A          |\n",
      "| (1, 1, 2)  |   0.0781861847154358  |         N/A          |         N/A         |         N/A          |\n",
      "| (1, 1, 3)  |  0.08676608951688244  |         N/A          |         N/A         |         N/A          |\n",
      "| (1, 1, 4)  |  0.09630142744438856  |         N/A          |         N/A         |         N/A          |\n",
      "| (1, 1, 5)  |  0.10685796288900802  |         N/A          |         N/A         |         N/A          |\n",
      "| (1, 1, 6)  |  0.11859772230265908  |         N/A          |         N/A         |         N/A          |\n",
      "| (1, 1, 7)  |   0.1316725584784919  |         N/A          |         N/A         |         N/A          |\n",
      "| (1, 1, 8)  |  0.14633277607276765  |         N/A          |         N/A         |         N/A          |\n",
      "| (1, 1, 9)  |  0.16292765270528833  |         N/A          |         N/A         |         N/A          |\n",
      "| (1, 1, 10) |  0.18192027087727286  |         N/A          |         N/A         |         N/A          |\n",
      "| (1, 1, 11) |   0.2038831113454925  |         N/A          |         N/A         |         N/A          |\n",
      "| (1, 1, 12) |  0.22946404981519394  |         N/A          |         N/A         |         N/A          |\n",
      "| (1, 1, 13) |  0.25932045946583193  |         N/A          |         N/A         |         N/A          |\n",
      "| (1, 1, 14) |  0.29403455413608454  |         N/A          |         N/A         |         N/A          |\n",
      "| (1, 1, 15) |   0.3340431018300871  |         N/A          |         N/A         |         N/A          |\n",
      "| (1, 1, 16) |   0.3796291335955432  |         N/A          |         N/A         |         N/A          |\n",
      "| (1, 1, 17) |   0.4310156215948452  |         N/A          |         N/A         |         N/A          |\n",
      "| (1, 1, 18) |   0.4885510782298347  |         N/A          |         N/A         |         N/A          |\n",
      "| (1, 1, 19) |   0.5528684834002087  |         N/A          |         N/A         |         N/A          |\n",
      "| (1, 1, 20) |   0.6247514983224718  |         N/A          |         N/A         |         N/A          |\n",
      "| (1, 1, 21) |   0.7044089599794313  |         N/A          |         N/A         |         N/A          |\n",
      "| (1, 1, 22) |   0.7903444387694379  |         N/A          |         N/A         |         N/A          |\n",
      "| (1, 1, 23) |   0.8793771614361205  |         N/A          |         N/A         |         N/A          |\n",
      "| (1, 1, 24) |   0.9704762138098538  |         N/A          |         N/A         |         N/A          |\n",
      "| (1, 1, 25) |   1.0715452146018234  |         N/A          |         N/A         |         N/A          |\n",
      "| (1, 1, 26) |   1.200029843559539   |         N/A          |         N/A         |         N/A          |\n",
      "| (1, 1, 27) |   1.362824854830179   |         N/A          |         N/A         |         N/A          |\n",
      "| (1, 1, 28) |   1.3753452166410547  |         N/A          |         N/A         |         N/A          |\n",
      "| (1, 1, 29) |   1.4345392067841376  |         N/A          |         N/A         |         N/A          |\n",
      "+------------+-----------------------+----------------------+---------------------+----------------------+\n",
      "Test Run\n",
      "Corn planted at time step 0\n",
      "Bean planted at time step 5 when the age of corn is 4\n",
      "Total Reward = 2.0\n"
     ]
    }
   ],
   "source": [
    "run(env_spec = [0.5, 0.5, 1.5, -0.5], agent_spec = [0.9, 0.1, 0.5], epochs=5000) # Penalize planting bean at incorrect time"
   ]
  },
  {
   "cell_type": "code",
   "execution_count": null,
   "metadata": {},
   "outputs": [],
   "source": []
  }
 ],
 "metadata": {
  "kernelspec": {
   "display_name": "agro-agent",
   "language": "python",
   "name": "agro-agent"
  },
  "language_info": {
   "codemirror_mode": {
    "name": "ipython",
    "version": 3
   },
   "file_extension": ".py",
   "mimetype": "text/x-python",
   "name": "python",
   "nbconvert_exporter": "python",
   "pygments_lexer": "ipython3",
   "version": "3.7.1"
  }
 },
 "nbformat": 4,
 "nbformat_minor": 2
}
